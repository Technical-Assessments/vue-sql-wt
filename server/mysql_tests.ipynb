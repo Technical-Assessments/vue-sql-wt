{
 "cells": [
  {
   "cell_type": "code",
   "execution_count": 9,
   "metadata": {},
   "outputs": [
    {
     "name": "stdout",
     "output_type": "stream",
     "text": [
      "((10001, datetime.date(1953, 9, 2), 'Georgi', 'Facello', 'M', datetime.date(1986, 6, 26)), (10002, datetime.date(1964, 6, 2), 'Bezalel', 'Simmel', 'F', datetime.date(1985, 11, 21)), (10003, datetime.date(1959, 12, 3), 'Parto', 'Bamford', 'M', datetime.date(1986, 8, 28)), (10004, datetime.date(1954, 5, 1), 'Chirstian', 'Koblick', 'M', datetime.date(1986, 12, 1)), (10005, datetime.date(1955, 1, 21), 'Kyoichi', 'Maliniak', 'M', datetime.date(1989, 9, 12)), (10006, datetime.date(1953, 4, 20), 'Anneke', 'Preusig', 'F', datetime.date(1989, 6, 2)), (10007, datetime.date(1957, 5, 23), 'Tzvetan', 'Zielinski', 'F', datetime.date(1989, 2, 10)), (10008, datetime.date(1958, 2, 19), 'Saniya', 'Kalloufi', 'M', datetime.date(1994, 9, 15)), (10009, datetime.date(1952, 4, 19), 'Sumant', 'Peac', 'F', datetime.date(1985, 2, 18)), (10010, datetime.date(1963, 6, 1), 'Duangkaew', 'Piveteau', 'F', datetime.date(1989, 8, 24)))\n"
     ]
    }
   ],
   "source": [
    "import os\n",
    "from typing import Any\n",
    "import pymysql\n",
    "\n",
    "\n",
    "def connection() -> Any:\n",
    "  return pymysql.connect(\n",
    "    user        =   os.environ.get(\"MYSQL_USER\"),\n",
    "    port        =   int(os.environ.get(\"MYSQL_PORT\")),\n",
    "    password    =   os.environ.get(\"MYSQL_ROOT_PASSWORD\"),\n",
    "    database    =   os.environ.get(\"MYSQL_DATABASE\")\n",
    "  )\n",
    "\n",
    "cnn = connection()\n",
    "\n",
    "def main():\n",
    "    with cnn:\n",
    "        with cnn.cursor() as cursor:\n",
    "            query = \"SELECT * FROM employees LIMIT 10\"\n",
    "            cursor.execute(query)\n",
    "            result = cursor.fetchall()\n",
    "            print(result)\n",
    "\n",
    "\n",
    "main()"
   ]
  },
  {
   "cell_type": "code",
   "execution_count": null,
   "metadata": {},
   "outputs": [],
   "source": []
  }
 ],
 "metadata": {
  "interpreter": {
   "hash": "fa062e26398106603f34a37bf5291bd7b0e49a7fe4d296468a8ea24970126852"
  },
  "kernelspec": {
   "display_name": "Python 3.10.4 ('wt_assessment')",
   "language": "python",
   "name": "python3"
  },
  "language_info": {
   "codemirror_mode": {
    "name": "ipython",
    "version": 3
   },
   "file_extension": ".py",
   "mimetype": "text/x-python",
   "name": "python",
   "nbconvert_exporter": "python",
   "pygments_lexer": "ipython3",
   "version": "3.10.4"
  },
  "orig_nbformat": 4
 },
 "nbformat": 4,
 "nbformat_minor": 2
}
