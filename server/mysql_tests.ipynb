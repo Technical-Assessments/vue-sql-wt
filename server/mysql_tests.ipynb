{
 "cells": [],
 "metadata": {
  "interpreter": {
   "hash": "fa062e26398106603f34a37bf5291bd7b0e49a7fe4d296468a8ea24970126852"
  },
  "kernelspec": {
   "display_name": "Python 3.10.4 ('wt_assessment')",
   "language": "python",
   "name": "python3"
  },
  "language_info": {
   "codemirror_mode": {
    "name": "ipython",
    "version": 3
   },
   "file_extension": ".py",
   "mimetype": "text/x-python",
   "name": "python",
   "nbconvert_exporter": "python",
   "pygments_lexer": "ipython3",
   "version": "3.10.4"
  },
  "orig_nbformat": 4
 },
 "nbformat": 4,
 "nbformat_minor": 2
}
